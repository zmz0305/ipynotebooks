{
 "cells": [
  {
   "cell_type": "code",
   "execution_count": 2,
   "metadata": {
    "collapsed": false
   },
   "outputs": [],
   "source": [
    "from sympy import *\n",
    "from functools import reduce\n",
    "import math\n",
    "x, y, z = symbols('x y z')\n",
    "\n"
   ]
  },
  {
   "cell_type": "markdown",
   "metadata": {},
   "source": [
    "#### some sympy examples\n",
    "<code>\n",
    "solveset(Eq(x**2, 1), x)\n",
    "{-1, 1}\n",
    "solveset(Eq(x**2 - 1, 0), x)\n",
    "{-1, 1}\n",
    "solveset(x**2 - 1, x)\n",
    "{-1, 1}\n",
    "\n",
    "linsolve([x + y + z - 1, x + y + 2*z - 3 ], (x, y, z))\n",
    "{(-y - 1, y, 2)}\n",
    "\n",
    "diff(x**4, x, x, x)\n",
    "24⋅x\n",
    "diff(x**4, x, 3)\n",
    "24⋅x\n",
    "\n",
    "integrate(cos(x), x)\n",
    "sin(x)\n",
    "</code>"
   ]
  },
  {
   "cell_type": "code",
   "execution_count": 3,
   "metadata": {
    "collapsed": false
   },
   "outputs": [],
   "source": [
    "eps = 8.85e-12\n",
    "k = 9e9\n",
    "e = math.e\n",
    "mu0 = math.pi*4e-7"
   ]
  },
  {
   "cell_type": "code",
   "execution_count": 37,
   "metadata": {
    "collapsed": false
   },
   "outputs": [],
   "source": [
    "def oneover(nums):\n",
    "    sum = 0\n",
    "    for i in nums:\n",
    "        sum += 1/i\n",
    "    return 1/sum\n",
    "\n",
    "def Q(c, v):\n",
    "    return c*v\n",
    "\n",
    "def add(x, y):\n",
    "    return x+y\n",
    "\n",
    "def vofr(v, rs):\n",
    "    r_sum = reduce(add, rs)\n",
    "    return v*rs[0]/r_sum\n",
    "\n",
    "def magF(i1, i2, d, l):\n",
    "    return mu0*i1*i2*l/(2*math.pi*d)\n"
   ]
  },
  {
   "cell_type": "code",
   "execution_count": 1,
   "metadata": {
    "collapsed": false
   },
   "outputs": [
    {
     "data": {
      "text/plain": [
       "82.78309999999999"
      ]
     },
     "execution_count": 1,
     "metadata": {},
     "output_type": "execute_result"
    }
   ],
   "source": [
    "l = 3.31\n",
    "i = 4.1\n",
    "b = 6.1\n",
    "f = i*l*b\n",
    "f"
   ]
  },
  {
   "cell_type": "code",
   "execution_count": 5,
   "metadata": {
    "collapsed": false
   },
   "outputs": [
    {
     "data": {
      "text/plain": [
       "47.84525790349418"
      ]
     },
     "execution_count": 5,
     "metadata": {},
     "output_type": "execute_result"
    }
   ],
   "source": [
    "i1 = 6.01\n",
    "f = 7.1e-6\n",
    "d = 8.1\n",
    "l = 1\n",
    "i2 = f*2*math.pi*d/(mu0*i1*l)\n",
    "i2"
   ]
  },
  {
   "cell_type": "code",
   "execution_count": 6,
   "metadata": {
    "collapsed": false
   },
   "outputs": [
    {
     "data": {
      "text/plain": [
       "90.2097"
      ]
     },
     "execution_count": 6,
     "metadata": {},
     "output_type": "execute_result"
    }
   ],
   "source": [
    "l = 3.33\n",
    "i = 4.3\n",
    "b = 6.3\n",
    "f = i*b*l\n",
    "f"
   ]
  },
  {
   "cell_type": "code",
   "execution_count": 7,
   "metadata": {
    "collapsed": false
   },
   "outputs": [
    {
     "data": {
      "text/plain": [
       "51.7863247863248"
      ]
     },
     "execution_count": 7,
     "metadata": {},
     "output_type": "execute_result"
    }
   ],
   "source": [
    "i2 = 5.85\n",
    "f = 7.3e-6\n",
    "l = 1\n",
    "d=8.3\n",
    "i1 = f*2*math.pi*d/(mu0*i2*l)\n",
    "i1"
   ]
  },
  {
   "cell_type": "code",
   "execution_count": 14,
   "metadata": {
    "collapsed": false
   },
   "outputs": [
    {
     "data": {
      "text/plain": [
       "0.1012875"
      ]
     },
     "execution_count": 14,
     "metadata": {},
     "output_type": "execute_result"
    }
   ],
   "source": [
    "h=0.37\n",
    "w=0.73\n",
    "i = 0.375\n",
    "b = 1.26\n",
    "theata = 36/180*math.pi\n",
    "u = h*w*i\n",
    "u"
   ]
  },
  {
   "cell_type": "code",
   "execution_count": 15,
   "metadata": {
    "collapsed": true
   },
   "outputs": [],
   "source": [
    "t = u* b*math.sin(theata)"
   ]
  },
  {
   "cell_type": "code",
   "execution_count": 16,
   "metadata": {
    "collapsed": false
   },
   "outputs": [
    {
     "data": {
      "text/plain": [
       "0.07501447641438308"
      ]
     },
     "execution_count": 16,
     "metadata": {},
     "output_type": "execute_result"
    }
   ],
   "source": [
    "t"
   ]
  },
  {
   "cell_type": "code",
   "execution_count": 17,
   "metadata": {
    "collapsed": false
   },
   "outputs": [
    {
     "data": {
      "text/plain": [
       "0.174825"
      ]
     },
     "execution_count": 17,
     "metadata": {},
     "output_type": "execute_result"
    }
   ],
   "source": [
    "fbc = b * h * i\n",
    "fbc\n"
   ]
  },
  {
   "cell_type": "code",
   "execution_count": 19,
   "metadata": {
    "collapsed": false
   },
   "outputs": [
    {
     "data": {
      "text/plain": [
       "0.7535219999999999"
      ]
     },
     "execution_count": 19,
     "metadata": {},
     "output_type": "execute_result"
    }
   ],
   "source": [
    "b = 1.4\n",
    "lab = 0.33\n",
    "lbc = 0.77\n",
    "i = 0.699\n",
    "lac = math.sqrt(lab**2 + lbc**2)\n",
    "sina = lbc / lac\n",
    "cosa = lab / lac\n",
    "facx = i*b*lac*sina\n",
    "facx"
   ]
  },
  {
   "cell_type": "code",
   "execution_count": 20,
   "metadata": {
    "collapsed": true
   },
   "outputs": [],
   "source": [
    "facy = i*b*lac*cosa"
   ]
  },
  {
   "cell_type": "code",
   "execution_count": 21,
   "metadata": {
    "collapsed": false
   },
   "outputs": [
    {
     "data": {
      "text/plain": [
       "0.32293799999999995"
      ]
     },
     "execution_count": 21,
     "metadata": {},
     "output_type": "execute_result"
    }
   ],
   "source": [
    "facy"
   ]
  },
  {
   "cell_type": "code",
   "execution_count": 23,
   "metadata": {
    "collapsed": false
   },
   "outputs": [
    {
     "data": {
      "text/plain": [
       "0.24866225999999997"
      ]
     },
     "execution_count": 23,
     "metadata": {},
     "output_type": "execute_result"
    }
   ],
   "source": [
    "u = i * lab*lbc/2\n",
    "dU = u*b\n",
    "dU*2\n"
   ]
  },
  {
   "cell_type": "code",
   "execution_count": 25,
   "metadata": {
    "collapsed": false
   },
   "outputs": [
    {
     "data": {
      "text/plain": [
       "3.931203931203932e-06"
      ]
     },
     "execution_count": 25,
     "metadata": {},
     "output_type": "execute_result"
    }
   ],
   "source": [
    "i1 = 3.6\n",
    "i2 = 1.3\n",
    "i3 = 8\n",
    "x = 0.235\n",
    "y = 0.407\n",
    "bx00 = mu0*i3/2/math.pi/y\n",
    "bx00"
   ]
  },
  {
   "cell_type": "code",
   "execution_count": 29,
   "metadata": {
    "collapsed": false
   },
   "outputs": [],
   "source": [
    "by00 = (mu0*i1+mu0*i2)/(2*math.pi*x)"
   ]
  },
  {
   "cell_type": "code",
   "execution_count": 30,
   "metadata": {
    "collapsed": false
   },
   "outputs": [
    {
     "data": {
      "text/plain": [
       "4.170212765957447e-06"
      ]
     },
     "execution_count": 30,
     "metadata": {},
     "output_type": "execute_result"
    }
   ],
   "source": [
    "by00"
   ]
  },
  {
   "cell_type": "code",
   "execution_count": 33,
   "metadata": {
    "collapsed": false
   },
   "outputs": [
    {
     "data": {
      "text/plain": [
       "8.119148936170213e-06"
      ]
     },
     "execution_count": 33,
     "metadata": {},
     "output_type": "execute_result"
    }
   ],
   "source": [
    "d = x*2\n",
    "b = (mu0*i2+mu0*0.5*i3)/(2*math.pi*d)\n",
    "l = 1\n",
    "f1x = i1*b*l\n",
    "f1x"
   ]
  },
  {
   "cell_type": "code",
   "execution_count": 35,
   "metadata": {
    "collapsed": false
   },
   "outputs": [
    {
     "data": {
      "text/plain": [
       "1.061341771446461e-05"
      ]
     },
     "execution_count": 35,
     "metadata": {},
     "output_type": "execute_result"
    }
   ],
   "source": [
    "b = (mu0*math.sin(1/3*math.pi)*i3)/(2*math.pi*d)\n",
    "\n",
    "f1y = i1*b*1\n",
    "f1y"
   ]
  },
  {
   "cell_type": "code",
   "execution_count": 36,
   "metadata": {
    "collapsed": false
   },
   "outputs": [
    {
     "data": {
      "text/plain": [
       "1.131810803282152e-05"
      ]
     },
     "execution_count": 36,
     "metadata": {},
     "output_type": "execute_result"
    }
   ],
   "source": [
    "b = (mu0*math.sin(1/3*math.pi)*i3)\n",
    "f2y = i2*b*1\n",
    "f2y"
   ]
  },
  {
   "cell_type": "code",
   "execution_count": 39,
   "metadata": {
    "collapsed": false
   },
   "outputs": [
    {
     "data": {
      "text/plain": [
       "1.868729454545454e-08"
      ]
     },
     "execution_count": 39,
     "metadata": {},
     "output_type": "execute_result"
    }
   ],
   "source": [
    "h=0.38\n",
    "w=0.72\n",
    "i2 = 0.366\n",
    "i1 = 0.739\n",
    "d = 0.38\n",
    "fad = magF(i1, i2, d, h)\n",
    "fbc = magF(i1, i2, d+w, h)\n",
    "fbc"
   ]
  },
  {
   "cell_type": "code",
   "execution_count": 41,
   "metadata": {
    "collapsed": false
   },
   "outputs": [
    {
     "data": {
      "text/plain": [
       "{0.755661090909091}"
      ]
     },
     "execution_count": 41,
     "metadata": {},
     "output_type": "execute_result"
    }
   ],
   "source": [
    "floop = fbc - fad\n",
    "i3 = symbols(\"i3\")\n",
    "solveset(Eq((mu0*i3*i2)/(2*math.pi*(2*d+w))-(mu0*i3*i2)/(4*math.pi*d), floop), i3)"
   ]
  },
  {
   "cell_type": "code",
   "execution_count": null,
   "metadata": {
    "collapsed": true
   },
   "outputs": [],
   "source": []
  }
 ],
 "metadata": {
  "kernelspec": {
   "display_name": "Python 3",
   "language": "python",
   "name": "python3"
  },
  "language_info": {
   "codemirror_mode": {
    "name": "ipython",
    "version": 3
   },
   "file_extension": ".py",
   "mimetype": "text/x-python",
   "name": "python",
   "nbconvert_exporter": "python",
   "pygments_lexer": "ipython3",
   "version": "3.5.0"
  }
 },
 "nbformat": 4,
 "nbformat_minor": 0
}
